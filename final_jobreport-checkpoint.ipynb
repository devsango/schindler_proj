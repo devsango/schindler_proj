{
 "cells": [
  {
   "cell_type": "code",
   "execution_count": 2,
   "metadata": {
    "collapsed": true
   },
   "outputs": [
    {
     "name": "stdout",
     "output_type": "stream",
     "text": [
      "Available Themes: \r\n",
      "   chesterish\r\n",
      "   grade3\r\n",
      "   gruvboxd\r\n",
      "   gruvboxl\r\n",
      "   monokai\r\n",
      "   oceans16\r\n",
      "   onedork\r\n",
      "   solarizedd\r\n",
      "   solarizedl\r\n"
     ]
    }
   ],
   "source": [
    "!jt -l"
   ]
  },
  {
   "cell_type": "code",
   "execution_count": 3,
   "metadata": {
    "collapsed": true
   },
   "outputs": [
    {
     "ename": "SyntaxError",
     "evalue": "invalid syntax (<ipython-input-3-9e8194b977c5>, line 1)",
     "output_type": "error",
     "traceback": [
      "\u001b[0;36m  File \u001b[0;32m\"<ipython-input-3-9e8194b977c5>\"\u001b[0;36m, line \u001b[0;32m1\u001b[0m\n\u001b[0;31m    jt -t oceans16\u001b[0m\n\u001b[0m                 ^\u001b[0m\n\u001b[0;31mSyntaxError\u001b[0m\u001b[0;31m:\u001b[0m invalid syntax\n"
     ]
    }
   ],
   "source": [
    "jt -t "
   ]
  },
  {
   "cell_type": "code",
   "execution_count": 24,
   "metadata": {},
   "outputs": [
    {
     "data": {
      "application/javascript": [
       "IPython.OutputArea.auto_scroll_threshold = 9999;\n"
      ],
      "text/plain": [
       "<IPython.core.display.Javascript object>"
      ]
     },
     "metadata": {},
     "output_type": "display_data"
    }
   ],
   "source": [
    "%%javascript\n",
    "IPython.OutputArea.auto_scroll_threshold = 9999;"
   ]
  },
  {
   "cell_type": "code",
   "execution_count": 32,
   "metadata": {},
   "outputs": [],
   "source": [
    "import pandas as pd\n",
    "import numpy as np\n",
    "import os\n",
    "from os.path import join\n",
    "from os.path import join\n",
    "%matplotlib inline\n",
    "import matplotlib.pyplot as plt\n",
    "\n",
    "path = \"/Users/212560649/Schindler/test/\"\n",
    "ds = pd.DataFrame(columns=['Sample Name', 'Device Ipv6', 'Time min', 'Time max', 'Time avg', 'Sample Size','Over 1s', 'Over 1s Pcnt', 'Over 5s', 'Over 5s pcnt'])\n",
    "\n",
    "stringToMatch = '64'\n",
    "FLIST = open(\"/Users/212560649/Schindler/pingi/pinghost.txt\", \"r\")\n",
    "filelist = open(\"filelst.txt\", \"w\")\n",
    "\n",
    "for line in FLIST:\n",
    "    pjob = line.strip()    \n",
    "    print(pjob)\n",
    "    pjob_out = pjob.split(\".\")[0]\n",
    "    print(pjob_out)\n",
    "    \n",
    "    device_ip = []\n",
    "    \n",
    "    with open(pjob, 'r') as file, open('{}.txt'.format(pjob_out), 'w') as fo:\n",
    "        for line in file:\n",
    "            if  stringToMatch in line:\n",
    "                fo.write(line)\n",
    "    \n",
    "    \n",
    "    device_ip = line.split(' ')[3]\n",
    "    filelist.write(pjob_out  + \".txt\" + '\\n')\n",
    "    print(pjob_out + \".txt  was created\")\n",
    "    fo.close()\n",
    "    file.close()\n",
    "    p4 = pd.read_csv('{}.txt'.format(pjob_out), sep='\\s+', header=None)\n",
    "    print(p4.head())\n",
    "    print(device_ip)\n",
    "\n",
    "    p4[[8,9]] = p4[6].str.split(\"=\",expand=True,)\n",
    "    print(p4.head())\n",
    "\n",
    "\n",
    "    samplename = pjob_out\n",
    "    nsamples = len(p4)\n",
    "    minrpt = p4[9].astype('float').min()\n",
    "    maxrpt = p4[9].astype('float').max()\n",
    "    meanrpt = p4[9].astype('float').mean()\n",
    "    rptov1 = len(p4[p4[9].astype('float') > 1000])\n",
    "    rptov1p = len(p4[p4[9].astype('float') > 1000])/len(p4)*100\n",
    "    rptov5 = len(p4[p4[9].astype('float') > 5000])\n",
    "    rptov5p = len(p4[p4[9].astype('float') > 5000])/len(p)*100\n",
    "    ds = ds.append({'Sample Name': samplename, 'Device Ipv6': device_ip, 'Time min': minrpt, 'Time max': maxrpt, 'Time avg': meanrpt,'Sample Size': nsamples, 'Over 1s': rptov1,'Over 1s Pcnt': rptov1p, 'Over 5s': rptov5,'Over 5s pcnt': rptov5p}, ignore_index=True)\n",
    "    print(ds)\n",
    "\n",
    "FLIST.close()\n",
    "\n",
    "ds.to_csv('results.csv')"
   ]
  },
  {
   "cell_type": "code",
   "execution_count": 23,
   "metadata": {},
   "outputs": [
    {
     "data": {
      "application/javascript": [
       "IPython.OutputArea.auto_scroll_threshold = 9999;\n"
      ],
      "text/plain": [
       "<IPython.core.display.Javascript object>"
      ]
     },
     "metadata": {},
     "output_type": "display_data"
    }
   ],
   "source": [
    "%%javascript\n",
    "IPython.OutputArea.auto_scroll_threshold = 9999;"
   ]
  },
  {
   "cell_type": "code",
   "execution_count": 15,
   "metadata": {},
   "outputs": [
    {
     "data": {
      "text/plain": [
       "'/Users/212560649/Schindler/pingi'"
      ]
     },
     "execution_count": 15,
     "metadata": {},
     "output_type": "execute_result"
    }
   ],
   "source": [
    "pwd\n"
   ]
  },
  {
   "cell_type": "code",
   "execution_count": 16,
   "metadata": {},
   "outputs": [
    {
     "name": "stdout",
     "output_type": "stream",
     "text": [
      "Untitled.ipynb   pingjob1e.log    pingjob4c.log    pingjob7d.log\r\n",
      "Untitled1.ipynb  pingjob1f.log    pingjob4d.log    pingjob7e.log\r\n",
      "Untitled2.ipynb  pingjob2a.log    pingjob4e.log    pingjob8a.log\r\n",
      "\u001b[1m\u001b[31mclean.py\u001b[m\u001b[m*        pingjob2b.log    pingjob5a.log    pingjob8b.log\r\n",
      "\u001b[1m\u001b[31mclean1.py\u001b[m\u001b[m*       pingjob2c.log    pingjob5b.log    pingjob8c.log\r\n",
      "filelst.txt      pingjob2d.log    pingjob5c.log    pingjob8d.log\r\n",
      "\u001b[1m\u001b[31mloader.py\u001b[m\u001b[m*       pingjob2e.log    pingjob5d.log    pingjob8e.log\r\n",
      "\u001b[1m\u001b[31mloader1.py\u001b[m\u001b[m*      pingjob3a.log    pingjob5e.log    results.csv\r\n",
      "\u001b[1m\u001b[31mpinger.sh\u001b[m\u001b[m*       pingjob3b.log    pingjob6a.log    resultsi.csv\r\n",
      "pinghost.txt     pingjob3c.log    pingjob6b.log    resultsi2.csv\r\n",
      "pingjb1d.log     pingjob3d.log    pingjob6d.log    \u001b[1m\u001b[36mtest\u001b[m\u001b[m/\r\n",
      "pingjob1a.log    pingjob3e.log    pingjob6e.log\r\n",
      "pingjob1b.log    pingjob4a.log    pingjob7a.log\r\n",
      "pingjob1c.log    pingjob4b.log    pingjob7b.log\r\n"
     ]
    }
   ],
   "source": [
    "ls "
   ]
  },
  {
   "cell_type": "code",
   "execution_count": 17,
   "metadata": {},
   "outputs": [
    {
     "name": "stdout",
     "output_type": "stream",
     "text": [
      "rm: pingj*.txt: No such file or directory\r\n"
     ]
    }
   ],
   "source": [
    "rm pingj*.txt"
   ]
  },
  {
   "cell_type": "code",
   "execution_count": 27,
   "metadata": {},
   "outputs": [],
   "source": [
    "cat /dev/null>filelst.txt"
   ]
  },
  {
   "cell_type": "code",
   "execution_count": 7,
   "metadata": {},
   "outputs": [],
   "source": [
    "\n",
    "#ds = pd.DataFrame(columns=['Sample Name', 'Device Ipv6', 'Time min', 'Time max', 'Time avg', 'Sample Size','Over 1s', 'Over 1s Pcnt', 'Over 5s', 'Over 5s pcnt'])"
   ]
  },
  {
   "cell_type": "code",
   "execution_count": 6,
   "metadata": {},
   "outputs": [
    {
     "ename": "NameError",
     "evalue": "name 'ds' is not defined",
     "output_type": "error",
     "traceback": [
      "\u001b[0;31m---------------------------------------------------------------------------\u001b[0m",
      "\u001b[0;31mNameError\u001b[0m                                 Traceback (most recent call last)",
      "\u001b[0;32m<ipython-input-6-2c45996fcc9a>\u001b[0m in \u001b[0;36m<module>\u001b[0;34m\u001b[0m\n\u001b[0;32m----> 1\u001b[0;31m \u001b[0mfe1\u001b[0m \u001b[0;34m=\u001b[0m \u001b[0mds\u001b[0m\u001b[0;34m.\u001b[0m\u001b[0mloc\u001b[0m\u001b[0;34m[\u001b[0m\u001b[0;34m[\u001b[0m\u001b[0;36m0\u001b[0m\u001b[0;34m,\u001b[0m\u001b[0;36m1\u001b[0m\u001b[0;34m,\u001b[0m\u001b[0;36m2\u001b[0m\u001b[0;34m,\u001b[0m\u001b[0;36m3\u001b[0m\u001b[0;34m,\u001b[0m\u001b[0;36m4\u001b[0m\u001b[0;34m,\u001b[0m\u001b[0;36m5\u001b[0m\u001b[0;34m]\u001b[0m\u001b[0;34m]\u001b[0m\u001b[0;34m\u001b[0m\u001b[0;34m\u001b[0m\u001b[0m\n\u001b[0m\u001b[1;32m      2\u001b[0m \u001b[0mfe2\u001b[0m \u001b[0;34m=\u001b[0m \u001b[0mds\u001b[0m\u001b[0;34m.\u001b[0m\u001b[0mloc\u001b[0m\u001b[0;34m[\u001b[0m\u001b[0;34m[\u001b[0m\u001b[0;36m6\u001b[0m\u001b[0;34m,\u001b[0m\u001b[0;36m7\u001b[0m\u001b[0;34m,\u001b[0m\u001b[0;36m8\u001b[0m\u001b[0;34m,\u001b[0m\u001b[0;36m9\u001b[0m\u001b[0;34m,\u001b[0m\u001b[0;36m10\u001b[0m\u001b[0;34m]\u001b[0m\u001b[0;34m]\u001b[0m\u001b[0;34m\u001b[0m\u001b[0;34m\u001b[0m\u001b[0m\n\u001b[1;32m      3\u001b[0m \u001b[0mfe3\u001b[0m \u001b[0;34m=\u001b[0m \u001b[0mds\u001b[0m\u001b[0;34m.\u001b[0m\u001b[0mloc\u001b[0m\u001b[0;34m[\u001b[0m\u001b[0;34m[\u001b[0m\u001b[0;36m11\u001b[0m\u001b[0;34m,\u001b[0m\u001b[0;36m12\u001b[0m\u001b[0;34m,\u001b[0m\u001b[0;36m13\u001b[0m\u001b[0;34m,\u001b[0m\u001b[0;36m14\u001b[0m\u001b[0;34m,\u001b[0m\u001b[0;36m15\u001b[0m\u001b[0;34m]\u001b[0m\u001b[0;34m]\u001b[0m\u001b[0;34m\u001b[0m\u001b[0;34m\u001b[0m\u001b[0m\n\u001b[1;32m      4\u001b[0m \u001b[0mfe4\u001b[0m \u001b[0;34m=\u001b[0m \u001b[0mds\u001b[0m\u001b[0;34m.\u001b[0m\u001b[0mloc\u001b[0m\u001b[0;34m[\u001b[0m\u001b[0;34m[\u001b[0m\u001b[0;36m16\u001b[0m\u001b[0;34m,\u001b[0m\u001b[0;36m17\u001b[0m\u001b[0;34m,\u001b[0m\u001b[0;36m18\u001b[0m\u001b[0;34m,\u001b[0m\u001b[0;36m19\u001b[0m\u001b[0;34m,\u001b[0m\u001b[0;36m20\u001b[0m\u001b[0;34m]\u001b[0m\u001b[0;34m]\u001b[0m\u001b[0;34m\u001b[0m\u001b[0;34m\u001b[0m\u001b[0m\n\u001b[1;32m      5\u001b[0m \u001b[0mfe5\u001b[0m \u001b[0;34m=\u001b[0m \u001b[0mds\u001b[0m\u001b[0;34m.\u001b[0m\u001b[0mloc\u001b[0m\u001b[0;34m[\u001b[0m\u001b[0;34m[\u001b[0m\u001b[0;36m21\u001b[0m\u001b[0;34m,\u001b[0m\u001b[0;36m22\u001b[0m\u001b[0;34m,\u001b[0m\u001b[0;36m23\u001b[0m\u001b[0;34m,\u001b[0m\u001b[0;36m24\u001b[0m\u001b[0;34m,\u001b[0m\u001b[0;36m25\u001b[0m\u001b[0;34m]\u001b[0m\u001b[0;34m]\u001b[0m\u001b[0;34m\u001b[0m\u001b[0;34m\u001b[0m\u001b[0m\n",
      "\u001b[0;31mNameError\u001b[0m: name 'ds' is not defined"
     ]
    }
   ],
   "source": [
    "fe1 = ds.loc[[0,1,2,3,4,5]]\n",
    "fe2 = ds.loc[[6,7,8,9,10]]\n",
    "fe3 = ds.loc[[11,12,13,14,15]]\n",
    "fe4 = ds.loc[[16,17,18,19,20]]\n",
    "fe5 = ds.loc[[21,22,23,24,25]]\n",
    "fe6 = ds.loc[[26,27,28,29]]\n",
    "fe7 = ds.loc[[30,31,32]]\n",
    "fe8 = ds.loc[[33,34,35,36,37]]\n"
   ]
  },
  {
   "cell_type": "code",
   "execution_count": 10,
   "metadata": {},
   "outputs": [
    {
     "ename": "NameError",
     "evalue": "name 'cwd' is not defined",
     "output_type": "error",
     "traceback": [
      "\u001b[0;31m---------------------------------------------------------------------------\u001b[0m",
      "\u001b[0;31mNameError\u001b[0m                                 Traceback (most recent call last)",
      "\u001b[0;32m<ipython-input-10-1200e4ef5981>\u001b[0m in \u001b[0;36m<module>\u001b[0;34m\u001b[0m\n\u001b[0;32m----> 1\u001b[0;31m \u001b[0mcwd\u001b[0m\u001b[0;34m\u001b[0m\u001b[0;34m\u001b[0m\u001b[0m\n\u001b[0m\u001b[1;32m      2\u001b[0m \u001b[0;34m\u001b[0m\u001b[0m\n",
      "\u001b[0;31mNameError\u001b[0m: name 'cwd' is not defined"
     ]
    }
   ],
   "source": [
    "cwd\n",
    "\n"
   ]
  },
  {
   "cell_type": "code",
   "execution_count": 18,
   "metadata": {},
   "outputs": [
    {
     "name": "stdout",
     "output_type": "stream",
     "text": [
      "Untitled.ipynb   pingjob1e.log    pingjob4c.log    pingjob7d.log\r\n",
      "Untitled1.ipynb  pingjob1f.log    pingjob4d.log    pingjob7e.log\r\n",
      "Untitled2.ipynb  pingjob2a.log    pingjob4e.log    pingjob8a.log\r\n",
      "\u001b[1m\u001b[31mclean.py\u001b[m\u001b[m*        pingjob2b.log    pingjob5a.log    pingjob8b.log\r\n",
      "\u001b[1m\u001b[31mclean1.py\u001b[m\u001b[m*       pingjob2c.log    pingjob5b.log    pingjob8c.log\r\n",
      "filelst.txt      pingjob2d.log    pingjob5c.log    pingjob8d.log\r\n",
      "\u001b[1m\u001b[31mloader.py\u001b[m\u001b[m*       pingjob2e.log    pingjob5d.log    pingjob8e.log\r\n",
      "\u001b[1m\u001b[31mloader1.py\u001b[m\u001b[m*      pingjob3a.log    pingjob5e.log    results.csv\r\n",
      "\u001b[1m\u001b[31mpinger.sh\u001b[m\u001b[m*       pingjob3b.log    pingjob6a.log    resultsi.csv\r\n",
      "pinghost.txt     pingjob3c.log    pingjob6b.log    resultsi2.csv\r\n",
      "pingjb1d.log     pingjob3d.log    pingjob6d.log    \u001b[1m\u001b[36mtest\u001b[m\u001b[m/\r\n",
      "pingjob1a.log    pingjob3e.log    pingjob6e.log\r\n",
      "pingjob1b.log    pingjob4a.log    pingjob7a.log\r\n",
      "pingjob1c.log    pingjob4b.log    pingjob7b.log\r\n"
     ]
    }
   ],
   "source": [
    "ls "
   ]
  },
  {
   "cell_type": "code",
   "execution_count": 19,
   "metadata": {},
   "outputs": [],
   "source": [
    "cat filelst.txt"
   ]
  },
  {
   "cell_type": "code",
   "execution_count": 20,
   "metadata": {},
   "outputs": [
    {
     "name": "stdout",
     "output_type": "stream",
     "text": [
      "pingjb1d.log\r\n",
      "pingjob1a.log\r\n",
      "pingjob1b.log\r\n",
      "pingjob1c.log\r\n",
      "pingjob1e.log\r\n",
      "pingjob1f.log\r\n",
      "pingjob2a.log\r\n",
      "pingjob2b.log\r\n",
      "pingjob2c.log\r\n",
      "pingjob2d.log\r\n",
      "pingjob2e.log\r\n",
      "pingjob3a.log\r\n",
      "pingjob3b.log\r\n",
      "pingjob3c.log\r\n",
      "pingjob3d.log\r\n",
      "pingjob3e.log\r\n",
      "pingjob4a.log\r\n",
      "pingjob4b.log\r\n",
      "pingjob4c.log\r\n",
      "pingjob4d.log\r\n",
      "pingjob4e.log\r\n",
      "pingjob5a.log\r\n",
      "pingjob5b.log\r\n",
      "pingjob5c.log\r\n",
      "pingjob5d.log\r\n",
      "pingjob5e.log\r\n",
      "pingjob6a.log\r\n",
      "pingjob6b.log\r\n",
      "pingjob6d.log\r\n",
      "pingjob6e.log\r\n",
      "pingjob7b.log\r\n",
      "pingjob7d.log\r\n",
      "pingjob7e.log\r\n",
      "pingjob8a.log\r\n",
      "pingjob8b.log\r\n",
      "pingjob8c.log\r\n",
      "pingjob8d.log\r\n",
      "pingjob8e.log\r\n"
     ]
    }
   ],
   "source": [
    "cat pinghost.txt "
   ]
  },
  {
   "cell_type": "code",
   "execution_count": 22,
   "metadata": {},
   "outputs": [
    {
     "name": "stdout",
     "output_type": "stream",
     "text": [
      "Untitled.ipynb   pingjob2a.txt    pingjob4c.log    pingjob6e.txt\r\n",
      "Untitled1.ipynb  pingjob2b.log    pingjob4c.txt    pingjob7a.log\r\n",
      "Untitled2.ipynb  pingjob2b.txt    pingjob4d.log    pingjob7b.log\r\n",
      "\u001b[1m\u001b[31mclean.py\u001b[m\u001b[m*        pingjob2c.log    pingjob4d.txt    pingjob7b.txt\r\n",
      "\u001b[1m\u001b[31mclean1.py\u001b[m\u001b[m*       pingjob2c.txt    pingjob4e.log    pingjob7d.log\r\n",
      "filelst.txt      pingjob2d.log    pingjob4e.txt    pingjob7d.txt\r\n",
      "\u001b[1m\u001b[31mloader.py\u001b[m\u001b[m*       pingjob2d.txt    pingjob5a.log    pingjob7e.log\r\n",
      "\u001b[1m\u001b[31mloader1.py\u001b[m\u001b[m*      pingjob2e.log    pingjob5a.txt    pingjob7e.txt\r\n",
      "\u001b[1m\u001b[31mpinger.sh\u001b[m\u001b[m*       pingjob2e.txt    pingjob5b.log    pingjob8a.log\r\n",
      "pinghost.txt     pingjob3a.log    pingjob5b.txt    pingjob8a.txt\r\n",
      "pingjb1d.log     pingjob3a.txt    pingjob5c.log    pingjob8b.log\r\n",
      "pingjb1d.txt     pingjob3b.log    pingjob5c.txt    pingjob8b.txt\r\n",
      "pingjob1a.log    pingjob3b.txt    pingjob5d.log    pingjob8c.log\r\n",
      "pingjob1a.txt    pingjob3c.log    pingjob5d.txt    pingjob8c.txt\r\n",
      "pingjob1b.log    pingjob3c.txt    pingjob5e.log    pingjob8d.log\r\n",
      "pingjob1b.txt    pingjob3d.log    pingjob5e.txt    pingjob8d.txt\r\n",
      "pingjob1c.log    pingjob3d.txt    pingjob6a.log    pingjob8e.log\r\n",
      "pingjob1c.txt    pingjob3e.log    pingjob6a.txt    pingjob8e.txt\r\n",
      "pingjob1e.log    pingjob3e.txt    pingjob6b.log    results.csv\r\n",
      "pingjob1e.txt    pingjob4a.log    pingjob6b.txt    resultsi.csv\r\n",
      "pingjob1f.log    pingjob4a.txt    pingjob6d.log    resultsi2.csv\r\n",
      "pingjob1f.txt    pingjob4b.log    pingjob6d.txt    \u001b[1m\u001b[36mtest\u001b[m\u001b[m/\r\n",
      "pingjob2a.log    pingjob4b.txt    pingjob6e.log\r\n"
     ]
    }
   ],
   "source": [
    "ls "
   ]
  },
  {
   "cell_type": "code",
   "execution_count": 23,
   "metadata": {},
   "outputs": [],
   "source": [
    "rm pingj*txt\n"
   ]
  },
  {
   "cell_type": "code",
   "execution_count": 24,
   "metadata": {},
   "outputs": [
    {
     "name": "stdout",
     "output_type": "stream",
     "text": [
      "Untitled.ipynb   pingjob1e.log    pingjob4c.log    pingjob7d.log\r\n",
      "Untitled1.ipynb  pingjob1f.log    pingjob4d.log    pingjob7e.log\r\n",
      "Untitled2.ipynb  pingjob2a.log    pingjob4e.log    pingjob8a.log\r\n",
      "\u001b[1m\u001b[31mclean.py\u001b[m\u001b[m*        pingjob2b.log    pingjob5a.log    pingjob8b.log\r\n",
      "\u001b[1m\u001b[31mclean1.py\u001b[m\u001b[m*       pingjob2c.log    pingjob5b.log    pingjob8c.log\r\n",
      "filelst.txt      pingjob2d.log    pingjob5c.log    pingjob8d.log\r\n",
      "\u001b[1m\u001b[31mloader.py\u001b[m\u001b[m*       pingjob2e.log    pingjob5d.log    pingjob8e.log\r\n",
      "\u001b[1m\u001b[31mloader1.py\u001b[m\u001b[m*      pingjob3a.log    pingjob5e.log    results.csv\r\n",
      "\u001b[1m\u001b[31mpinger.sh\u001b[m\u001b[m*       pingjob3b.log    pingjob6a.log    resultsi.csv\r\n",
      "pinghost.txt     pingjob3c.log    pingjob6b.log    resultsi2.csv\r\n",
      "pingjb1d.log     pingjob3d.log    pingjob6d.log    \u001b[1m\u001b[36mtest\u001b[m\u001b[m/\r\n",
      "pingjob1a.log    pingjob3e.log    pingjob6e.log\r\n",
      "pingjob1b.log    pingjob4a.log    pingjob7a.log\r\n",
      "pingjob1c.log    pingjob4b.log    pingjob7b.log\r\n"
     ]
    }
   ],
   "source": [
    "ls "
   ]
  },
  {
   "cell_type": "code",
   "execution_count": 26,
   "metadata": {},
   "outputs": [
    {
     "name": "stdout",
     "output_type": "stream",
     "text": [
      "pingjb1d.log\r\n",
      "pingjob1a.log\r\n",
      "pingjob1b.log\r\n",
      "pingjob1c.log\r\n",
      "pingjob1e.log\r\n",
      "pingjob1f.log\r\n",
      "pingjob2a.log\r\n",
      "pingjob2b.log\r\n",
      "pingjob2c.log\r\n",
      "pingjob2d.log\r\n",
      "pingjob2e.log\r\n",
      "pingjob3a.log\r\n",
      "pingjob3b.log\r\n",
      "pingjob3c.log\r\n",
      "pingjob3d.log\r\n",
      "pingjob3e.log\r\n",
      "pingjob4a.log\r\n",
      "pingjob4b.log\r\n",
      "pingjob4c.log\r\n",
      "pingjob4d.log\r\n",
      "pingjob4e.log\r\n",
      "pingjob5a.log\r\n",
      "pingjob5b.log\r\n",
      "pingjob5c.log\r\n",
      "pingjob5d.log\r\n",
      "pingjob5e.log\r\n",
      "pingjob6a.log\r\n",
      "pingjob6b.log\r\n",
      "pingjob6d.log\r\n",
      "pingjob6e.log\r\n",
      "pingjob7b.log\r\n",
      "pingjob7d.log\r\n",
      "pingjob7e.log\r\n",
      "pingjob8a.log\r\n",
      "pingjob8b.log\r\n",
      "pingjob8c.log\r\n",
      "pingjob8d.log\r\n",
      "pingjob8e.log\r\n"
     ]
    }
   ],
   "source": [
    "cat pinghost.txt"
   ]
  },
  {
   "cell_type": "code",
   "execution_count": 29,
   "metadata": {},
   "outputs": [
    {
     "data": {
      "text/plain": [
       "'/Users/212560649/Schindler/pingi'"
      ]
     },
     "execution_count": 29,
     "metadata": {},
     "output_type": "execute_result"
    }
   ],
   "source": [
    "pwd\n"
   ]
  },
  {
   "cell_type": "code",
   "execution_count": 30,
   "metadata": {},
   "outputs": [
    {
     "name": "stdout",
     "output_type": "stream",
     "text": [
      "Untitled.ipynb   filelst.txt      pingec2_4c.log   \u001b[1m\u001b[36mpingi2\u001b[m\u001b[m/\r\n",
      "Untitled1.ipynb  \u001b[1m\u001b[31mloader.py\u001b[m\u001b[m*       pingec2_4d.log   \u001b[1m\u001b[36mtest\u001b[m\u001b[m/\r\n",
      "Untitled2.ipynb  \u001b[1m\u001b[31mloader1.py\u001b[m\u001b[m*      pingec2_5a.log\r\n",
      "\u001b[1m\u001b[31mclean.py\u001b[m\u001b[m*        pingec2_4a.log   \u001b[1m\u001b[31mpinger.sh\u001b[m\u001b[m*\r\n",
      "\u001b[1m\u001b[31mclean1.py\u001b[m\u001b[m*       pingec2_4b.log   pinghost.txt\r\n"
     ]
    }
   ],
   "source": [
    "ls "
   ]
  },
  {
   "cell_type": "code",
   "execution_count": 33,
   "metadata": {},
   "outputs": [
    {
     "name": "stdout",
     "output_type": "stream",
     "text": [
      "Untitled.ipynb   filelst.txt      pingec2_4c.log   \u001b[1m\u001b[36mpingi2\u001b[m\u001b[m/\r\n",
      "Untitled1.ipynb  \u001b[1m\u001b[31mloader.py\u001b[m\u001b[m*       pingec2_4d.log   results.csv\r\n",
      "Untitled2.ipynb  \u001b[1m\u001b[31mloader1.py\u001b[m\u001b[m*      pingec2_5a.log   \u001b[1m\u001b[36mtest\u001b[m\u001b[m/\r\n",
      "\u001b[1m\u001b[31mclean.py\u001b[m\u001b[m*        pingec2_4a.log   \u001b[1m\u001b[31mpinger.sh\u001b[m\u001b[m*\r\n",
      "\u001b[1m\u001b[31mclean1.py\u001b[m\u001b[m*       pingec2_4b.log   pinghost.txt\r\n"
     ]
    }
   ],
   "source": [
    "ls "
   ]
  },
  {
   "cell_type": "code",
   "execution_count": null,
   "metadata": {},
   "outputs": [],
   "source": []
  }
 ],
 "metadata": {
  "kernelspec": {
   "display_name": "Python 3",
   "language": "python",
   "name": "python3"
  },
  "language_info": {
   "codemirror_mode": {
    "name": "ipython",
    "version": 3
   },
   "file_extension": ".py",
   "mimetype": "text/x-python",
   "name": "python",
   "nbconvert_exporter": "python",
   "pygments_lexer": "ipython3",
   "version": "3.7.6"
  }
 },
 "nbformat": 4,
 "nbformat_minor": 2
}
